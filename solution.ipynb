{
 "cells": [
  {
   "cell_type": "code",
   "execution_count": 108,
   "metadata": {},
   "outputs": [],
   "source": [
    "from pickle import FALSE, TRUE\n",
    "from numpy import diff\n",
    "import random\n",
    "import copy\n",
    "import math\n",
    "from numpy import exp\n",
    "import os"
   ]
  },
  {
   "cell_type": "code",
   "execution_count": 109,
   "metadata": {},
   "outputs": [],
   "source": [
    "def formatInput():\n",
    "    inputFile = open('Program2Input.txt', 'r')\n",
    "    inputArray = inputFile.read()\n",
    "    inputArray = inputArray.split()\n",
    "    nestedInputArray = []\n",
    "    nestedInputArray = [inputArray[i:i+2] for i in range(0, len(inputArray), 2)]\n",
    "    nestedInputArray = [[float(x) for x in lst] for lst in nestedInputArray]\n",
    "    for i in range(0, len(nestedInputArray)):\n",
    "        nestedInputArray[i].append(0)\n",
    "    return(nestedInputArray)"
   ]
  },
  {
   "cell_type": "code",
   "execution_count": 110,
   "metadata": {},
   "outputs": [],
   "source": [
    "def initialSolution(listOfItems):\n",
    "    numOfItems = 20\n",
    "    for i in range(0, numOfItems):\n",
    "        listOfItems[random.randint(0, len(listOfItems)-1)][2] = 1"
   ]
  },
  {
   "cell_type": "code",
   "execution_count": 111,
   "metadata": {},
   "outputs": [],
   "source": [
    "def proposedChange(listOfItems):\n",
    "    copyList = copy.deepcopy(listOfItems)\n",
    "    changedItemIndex = random.randint(0, len(listOfItems)-1)\n",
    "    if copyList[changedItemIndex][2] == 0:\n",
    "        copyList[changedItemIndex][2] = 1\n",
    "    elif copyList[changedItemIndex][2] == 1:\n",
    "        copyList[changedItemIndex][2] = 0\n",
    "    return(copyList)"
   ]
  },
  {
   "cell_type": "code",
   "execution_count": 112,
   "metadata": {},
   "outputs": [],
   "source": [
    "def checkChange(initialList, copyList, temp):\n",
    "    initialUtility = calcUtility(initialList)\n",
    "    copyUtility = calcUtility(copyList)\n",
    "    difference = (initialUtility - copyUtility)\n",
    "    probability = math.exp((-difference) / temp)\n",
    "    if (difference < 0) or (random.random() > probability):\n",
    "        return True\n",
    "    else: return False"
   ]
  },
  {
   "cell_type": "code",
   "execution_count": 113,
   "metadata": {},
   "outputs": [],
   "source": [
    "def calcUtility(listOfItems):\n",
    "    totalUtility = 0.0\n",
    "    rawUtility = 0.0\n",
    "    for i in range(0, len(listOfItems)):\n",
    "        if listOfItems[i][2] == 1:\n",
    "            rawUtility += listOfItems[i][0]\n",
    "    totalUtility = (1000 - rawUtility)\n",
    "    weight = calcWeight(listOfItems)\n",
    "    totalUtility = overWeightCheck(totalUtility, weight)\n",
    "    return(totalUtility)"
   ]
  },
  {
   "cell_type": "code",
   "execution_count": 114,
   "metadata": {},
   "outputs": [],
   "source": [
    "def calcWeight(listOfItems):\n",
    "    weight = 0.0\n",
    "    for i in range(0, len(listOfItems)):\n",
    "        if listOfItems[i][2] == 1:\n",
    "            weight += listOfItems[i][1]\n",
    "    return(weight)"
   ]
  },
  {
   "cell_type": "code",
   "execution_count": 115,
   "metadata": {},
   "outputs": [],
   "source": [
    "def overWeightCheck(utility, weight):\n",
    "    maxWeight = 500\n",
    "    if weight > maxWeight:\n",
    "        penalty = ((weight - maxWeight) * 20)\n",
    "        utility += penalty\n",
    "    return utility"
   ]
  },
  {
   "cell_type": "code",
   "execution_count": 116,
   "metadata": {},
   "outputs": [],
   "source": [
    "def displayResults(listOfItems):\n",
    "    print('Final list of items packed in car:')\n",
    "    print('Utility \\t Weight')\n",
    "    for i in range(0, len(listOfItems)-1):\n",
    "        if listOfItems[i][2] == 1:\n",
    "            print('%d \\t\\t %d' % (listOfItems[i][0], listOfItems[i][1]))\n",
    "    print('Total Utility: %d' % calcUtility(listOfItems))\n",
    "    print('Total Weight: %d' % calcWeight(listOfItems))"
   ]
  },
  {
   "cell_type": "code",
   "execution_count": 119,
   "metadata": {},
   "outputs": [
    {
     "name": "stdout",
     "output_type": "stream",
     "text": [
      "Attempts: 4000\tChanges: 187\t Temperature: 200.000000 \t Iterations: 1\t Current Utility: 905\n",
      "Attempts: 4000\tChanges: 151\t Temperature: 199.800000 \t Iterations: 2\t Current Utility: 924\n",
      "Attempts: 4000\tChanges: 200\t Temperature: 199.600200 \t Iterations: 3\t Current Utility: 898\n",
      "Attempts: 4000\tChanges: 209\t Temperature: 199.400600 \t Iterations: 4\t Current Utility: 906\n",
      "Attempts: 4000\tChanges: 195\t Temperature: 199.201199 \t Iterations: 5\t Current Utility: 934\n",
      "Attempts: 4000\tChanges: 163\t Temperature: 199.001998 \t Iterations: 6\t Current Utility: 925\n",
      "Attempts: 4000\tChanges: 176\t Temperature: 198.802996 \t Iterations: 7\t Current Utility: 894\n",
      "Attempts: 4000\tChanges: 209\t Temperature: 198.604193 \t Iterations: 8\t Current Utility: 894\n",
      "Attempts: 4000\tChanges: 214\t Temperature: 198.405589 \t Iterations: 9\t Current Utility: 907\n",
      "Attempts: 4000\tChanges: 193\t Temperature: 198.207183 \t Iterations: 10\t Current Utility: 935\n",
      "Attempts: 4000\tChanges: 187\t Temperature: 198.008976 \t Iterations: 11\t Current Utility: 938\n",
      "Attempts: 4000\tChanges: 193\t Temperature: 197.810967 \t Iterations: 12\t Current Utility: 950\n",
      "Attempts: 4000\tChanges: 204\t Temperature: 197.613156 \t Iterations: 13\t Current Utility: 955\n",
      "Attempts: 4000\tChanges: 204\t Temperature: 197.415543 \t Iterations: 14\t Current Utility: 927\n",
      "Attempts: 4000\tChanges: 203\t Temperature: 197.218127 \t Iterations: 15\t Current Utility: 916\n",
      "Attempts: 4000\tChanges: 188\t Temperature: 197.020909 \t Iterations: 16\t Current Utility: 961\n",
      "Attempts: 4000\tChanges: 161\t Temperature: 196.823888 \t Iterations: 17\t Current Utility: 941\n",
      "Attempts: 4000\tChanges: 205\t Temperature: 196.627064 \t Iterations: 18\t Current Utility: 931\n",
      "Attempts: 4000\tChanges: 164\t Temperature: 196.430437 \t Iterations: 19\t Current Utility: 946\n",
      "Attempts: 4000\tChanges: 173\t Temperature: 196.234007 \t Iterations: 20\t Current Utility: 972\n",
      "Attempts: 4000\tChanges: 226\t Temperature: 196.037773 \t Iterations: 21\t Current Utility: 906\n",
      "Attempts: 4000\tChanges: 210\t Temperature: 195.841735 \t Iterations: 22\t Current Utility: 889\n",
      "Attempts: 4000\tChanges: 210\t Temperature: 195.645893 \t Iterations: 23\t Current Utility: 935\n",
      "Attempts: 4000\tChanges: 184\t Temperature: 195.450248 \t Iterations: 24\t Current Utility: 915\n",
      "Attempts: 4000\tChanges: 225\t Temperature: 195.254797 \t Iterations: 25\t Current Utility: 926\n",
      "Attempts: 4000\tChanges: 213\t Temperature: 195.059543 \t Iterations: 26\t Current Utility: 947\n",
      "Attempts: 4000\tChanges: 225\t Temperature: 194.864483 \t Iterations: 27\t Current Utility: 933\n",
      "Attempts: 4000\tChanges: 204\t Temperature: 194.669618 \t Iterations: 28\t Current Utility: 933\n",
      "Attempts: 4000\tChanges: 204\t Temperature: 194.474949 \t Iterations: 29\t Current Utility: 930\n",
      "Attempts: 4000\tChanges: 189\t Temperature: 194.280474 \t Iterations: 30\t Current Utility: 945\n",
      "Attempts: 4000\tChanges: 189\t Temperature: 194.086193 \t Iterations: 31\t Current Utility: 938\n",
      "Attempts: 4000\tChanges: 228\t Temperature: 193.892107 \t Iterations: 32\t Current Utility: 952\n",
      "Attempts: 4000\tChanges: 216\t Temperature: 193.698215 \t Iterations: 33\t Current Utility: 915\n",
      "Attempts: 4000\tChanges: 238\t Temperature: 193.504517 \t Iterations: 34\t Current Utility: 930\n",
      "Attempts: 4000\tChanges: 190\t Temperature: 193.311012 \t Iterations: 35\t Current Utility: 936\n",
      "Attempts: 4000\tChanges: 179\t Temperature: 193.117701 \t Iterations: 36\t Current Utility: 903\n",
      "Attempts: 4000\tChanges: 206\t Temperature: 192.924584 \t Iterations: 37\t Current Utility: 933\n",
      "Attempts: 4000\tChanges: 188\t Temperature: 192.731659 \t Iterations: 38\t Current Utility: 954\n",
      "Attempts: 4000\tChanges: 196\t Temperature: 192.538927 \t Iterations: 39\t Current Utility: 923\n",
      "Attempts: 4000\tChanges: 176\t Temperature: 192.346389 \t Iterations: 40\t Current Utility: 949\n",
      "Attempts: 4000\tChanges: 196\t Temperature: 192.154042 \t Iterations: 41\t Current Utility: 938\n",
      "Attempts: 4000\tChanges: 207\t Temperature: 191.961888 \t Iterations: 42\t Current Utility: 901\n",
      "Attempts: 4000\tChanges: 234\t Temperature: 191.769926 \t Iterations: 43\t Current Utility: 945\n",
      "Attempts: 4000\tChanges: 215\t Temperature: 191.578156 \t Iterations: 44\t Current Utility: 972\n",
      "Attempts: 4000\tChanges: 180\t Temperature: 191.386578 \t Iterations: 45\t Current Utility: 951\n",
      "Attempts: 4000\tChanges: 216\t Temperature: 191.195192 \t Iterations: 46\t Current Utility: 908\n",
      "Attempts: 4000\tChanges: 172\t Temperature: 191.003996 \t Iterations: 47\t Current Utility: 977\n",
      "Attempts: 4000\tChanges: 172\t Temperature: 190.812992 \t Iterations: 48\t Current Utility: 934\n",
      "Attempts: 4000\tChanges: 210\t Temperature: 190.622179 \t Iterations: 49\t Current Utility: 933\n",
      "Attempts: 4000\tChanges: 232\t Temperature: 190.431557 \t Iterations: 50\t Current Utility: 946\n"
     ]
    },
    {
     "ename": "KeyboardInterrupt",
     "evalue": "",
     "output_type": "error",
     "traceback": [
      "\u001b[0;31m---------------------------------------------------------------------------\u001b[0m",
      "\u001b[0;31mKeyboardInterrupt\u001b[0m                         Traceback (most recent call last)",
      "Input \u001b[0;32mIn [119]\u001b[0m, in \u001b[0;36m<cell line: 8>\u001b[0;34m()\u001b[0m\n\u001b[1;32m      8\u001b[0m \u001b[38;5;28;01mwhile\u001b[39;00m \u001b[38;5;28;01mTrue\u001b[39;00m:\n\u001b[1;32m      9\u001b[0m     copyList \u001b[38;5;241m=\u001b[39m []\n\u001b[0;32m---> 10\u001b[0m     copyList \u001b[38;5;241m=\u001b[39m \u001b[43mproposedChange\u001b[49m\u001b[43m(\u001b[49m\u001b[43mlistOfItems\u001b[49m\u001b[43m)\u001b[49m\n\u001b[1;32m     12\u001b[0m     changeBool \u001b[38;5;241m=\u001b[39m checkChange(listOfItems, copyList, temp)\n\u001b[1;32m     14\u001b[0m     \u001b[38;5;28;01mif\u001b[39;00m changeBool: \n",
      "Input \u001b[0;32mIn [111]\u001b[0m, in \u001b[0;36mproposedChange\u001b[0;34m(listOfItems)\u001b[0m\n\u001b[1;32m      1\u001b[0m \u001b[38;5;28;01mdef\u001b[39;00m \u001b[38;5;21mproposedChange\u001b[39m(listOfItems):\n\u001b[0;32m----> 2\u001b[0m     copyList \u001b[38;5;241m=\u001b[39m \u001b[43mcopy\u001b[49m\u001b[38;5;241;43m.\u001b[39;49m\u001b[43mdeepcopy\u001b[49m\u001b[43m(\u001b[49m\u001b[43mlistOfItems\u001b[49m\u001b[43m)\u001b[49m\n\u001b[1;32m      3\u001b[0m     changedItemIndex \u001b[38;5;241m=\u001b[39m random\u001b[38;5;241m.\u001b[39mrandint(\u001b[38;5;241m0\u001b[39m, \u001b[38;5;28mlen\u001b[39m(listOfItems)\u001b[38;5;241m-\u001b[39m\u001b[38;5;241m1\u001b[39m)\n\u001b[1;32m      4\u001b[0m     \u001b[38;5;28;01mif\u001b[39;00m copyList[changedItemIndex][\u001b[38;5;241m2\u001b[39m] \u001b[38;5;241m==\u001b[39m \u001b[38;5;241m0\u001b[39m:\n",
      "File \u001b[0;32m/Library/Frameworks/Python.framework/Versions/3.10/lib/python3.10/copy.py:146\u001b[0m, in \u001b[0;36mdeepcopy\u001b[0;34m(x, memo, _nil)\u001b[0m\n\u001b[1;32m    144\u001b[0m copier \u001b[38;5;241m=\u001b[39m _deepcopy_dispatch\u001b[38;5;241m.\u001b[39mget(\u001b[38;5;28mcls\u001b[39m)\n\u001b[1;32m    145\u001b[0m \u001b[38;5;28;01mif\u001b[39;00m copier \u001b[38;5;129;01mis\u001b[39;00m \u001b[38;5;129;01mnot\u001b[39;00m \u001b[38;5;28;01mNone\u001b[39;00m:\n\u001b[0;32m--> 146\u001b[0m     y \u001b[38;5;241m=\u001b[39m \u001b[43mcopier\u001b[49m\u001b[43m(\u001b[49m\u001b[43mx\u001b[49m\u001b[43m,\u001b[49m\u001b[43m \u001b[49m\u001b[43mmemo\u001b[49m\u001b[43m)\u001b[49m\n\u001b[1;32m    147\u001b[0m \u001b[38;5;28;01melse\u001b[39;00m:\n\u001b[1;32m    148\u001b[0m     \u001b[38;5;28;01mif\u001b[39;00m \u001b[38;5;28missubclass\u001b[39m(\u001b[38;5;28mcls\u001b[39m, \u001b[38;5;28mtype\u001b[39m):\n",
      "File \u001b[0;32m/Library/Frameworks/Python.framework/Versions/3.10/lib/python3.10/copy.py:206\u001b[0m, in \u001b[0;36m_deepcopy_list\u001b[0;34m(x, memo, deepcopy)\u001b[0m\n\u001b[1;32m    204\u001b[0m append \u001b[38;5;241m=\u001b[39m y\u001b[38;5;241m.\u001b[39mappend\n\u001b[1;32m    205\u001b[0m \u001b[38;5;28;01mfor\u001b[39;00m a \u001b[38;5;129;01min\u001b[39;00m x:\n\u001b[0;32m--> 206\u001b[0m     append(\u001b[43mdeepcopy\u001b[49m\u001b[43m(\u001b[49m\u001b[43ma\u001b[49m\u001b[43m,\u001b[49m\u001b[43m \u001b[49m\u001b[43mmemo\u001b[49m\u001b[43m)\u001b[49m)\n\u001b[1;32m    207\u001b[0m \u001b[38;5;28;01mreturn\u001b[39;00m y\n",
      "File \u001b[0;32m/Library/Frameworks/Python.framework/Versions/3.10/lib/python3.10/copy.py:146\u001b[0m, in \u001b[0;36mdeepcopy\u001b[0;34m(x, memo, _nil)\u001b[0m\n\u001b[1;32m    144\u001b[0m copier \u001b[38;5;241m=\u001b[39m _deepcopy_dispatch\u001b[38;5;241m.\u001b[39mget(\u001b[38;5;28mcls\u001b[39m)\n\u001b[1;32m    145\u001b[0m \u001b[38;5;28;01mif\u001b[39;00m copier \u001b[38;5;129;01mis\u001b[39;00m \u001b[38;5;129;01mnot\u001b[39;00m \u001b[38;5;28;01mNone\u001b[39;00m:\n\u001b[0;32m--> 146\u001b[0m     y \u001b[38;5;241m=\u001b[39m \u001b[43mcopier\u001b[49m\u001b[43m(\u001b[49m\u001b[43mx\u001b[49m\u001b[43m,\u001b[49m\u001b[43m \u001b[49m\u001b[43mmemo\u001b[49m\u001b[43m)\u001b[49m\n\u001b[1;32m    147\u001b[0m \u001b[38;5;28;01melse\u001b[39;00m:\n\u001b[1;32m    148\u001b[0m     \u001b[38;5;28;01mif\u001b[39;00m \u001b[38;5;28missubclass\u001b[39m(\u001b[38;5;28mcls\u001b[39m, \u001b[38;5;28mtype\u001b[39m):\n",
      "File \u001b[0;32m/Library/Frameworks/Python.framework/Versions/3.10/lib/python3.10/copy.py:206\u001b[0m, in \u001b[0;36m_deepcopy_list\u001b[0;34m(x, memo, deepcopy)\u001b[0m\n\u001b[1;32m    204\u001b[0m append \u001b[38;5;241m=\u001b[39m y\u001b[38;5;241m.\u001b[39mappend\n\u001b[1;32m    205\u001b[0m \u001b[38;5;28;01mfor\u001b[39;00m a \u001b[38;5;129;01min\u001b[39;00m x:\n\u001b[0;32m--> 206\u001b[0m     append(\u001b[43mdeepcopy\u001b[49m\u001b[43m(\u001b[49m\u001b[43ma\u001b[49m\u001b[43m,\u001b[49m\u001b[43m \u001b[49m\u001b[43mmemo\u001b[49m\u001b[43m)\u001b[49m)\n\u001b[1;32m    207\u001b[0m \u001b[38;5;28;01mreturn\u001b[39;00m y\n",
      "File \u001b[0;32m/Library/Frameworks/Python.framework/Versions/3.10/lib/python3.10/copy.py:138\u001b[0m, in \u001b[0;36mdeepcopy\u001b[0;34m(x, memo, _nil)\u001b[0m\n\u001b[1;32m    135\u001b[0m     memo \u001b[38;5;241m=\u001b[39m {}\n\u001b[1;32m    137\u001b[0m d \u001b[38;5;241m=\u001b[39m \u001b[38;5;28mid\u001b[39m(x)\n\u001b[0;32m--> 138\u001b[0m y \u001b[38;5;241m=\u001b[39m \u001b[43mmemo\u001b[49m\u001b[38;5;241;43m.\u001b[39;49m\u001b[43mget\u001b[49m\u001b[43m(\u001b[49m\u001b[43md\u001b[49m\u001b[43m,\u001b[49m\u001b[43m \u001b[49m\u001b[43m_nil\u001b[49m\u001b[43m)\u001b[49m\n\u001b[1;32m    139\u001b[0m \u001b[38;5;28;01mif\u001b[39;00m y \u001b[38;5;129;01mis\u001b[39;00m \u001b[38;5;129;01mnot\u001b[39;00m _nil:\n\u001b[1;32m    140\u001b[0m     \u001b[38;5;28;01mreturn\u001b[39;00m y\n",
      "\u001b[0;31mKeyboardInterrupt\u001b[0m: "
     ]
    }
   ],
   "source": [
    "temp = 200.0\n",
    "changeCounter = 0\n",
    "consecutiveAttemptCounter = 0\n",
    "iterationCounter = 1\n",
    "listOfItems = formatInput()\n",
    "initialSolution(listOfItems)\n",
    "\n",
    "while True:\n",
    "    copyList = []\n",
    "    copyList = proposedChange(listOfItems)\n",
    "\n",
    "    changeBool = checkChange(listOfItems, copyList, temp)\n",
    "\n",
    "    if changeBool: \n",
    "        changeCounter += 1\n",
    "        listOfItems = copy.deepcopy(copyList)\n",
    "        copyList = []\n",
    "\n",
    "    consecutiveAttemptCounter += 1\n",
    "    if ((consecutiveAttemptCounter == 40000) and (changeCounter == 0)) or temp == 0:\n",
    "        displayResults(listOfItems)\n",
    "        break\n",
    "    if (consecutiveAttemptCounter == 4000) or (changeCounter == 400):\n",
    "        print('Attempts: %d\\tChanges: %d\\t Temperature: %f \\t Iterations: %d\\t Current Utility: %d' % (consecutiveAttemptCounter, changeCounter, temp, iterationCounter, calcUtility(listOfItems)))\n",
    "        temp *= 0.999\n",
    "        iterationCounter += 1\n",
    "        changeCounter = 0\n",
    "        consecutiveAttemptCounter = 0"
   ]
  }
 ],
 "metadata": {
  "interpreter": {
   "hash": "aee8b7b246df8f9039afb4144a1f6fd8d2ca17a180786b69acc140d282b71a49"
  },
  "kernelspec": {
   "display_name": "Python 3.10.1 64-bit",
   "language": "python",
   "name": "python3"
  },
  "language_info": {
   "codemirror_mode": {
    "name": "ipython",
    "version": 3
   },
   "file_extension": ".py",
   "mimetype": "text/x-python",
   "name": "python",
   "nbconvert_exporter": "python",
   "pygments_lexer": "ipython3",
   "version": "3.10.1"
  },
  "orig_nbformat": 4
 },
 "nbformat": 4,
 "nbformat_minor": 2
}
