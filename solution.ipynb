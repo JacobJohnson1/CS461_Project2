{
 "cells": [
  {
   "cell_type": "code",
   "execution_count": 22,
   "metadata": {},
   "outputs": [],
   "source": [
    "from pickle import FALSE, TRUE\n",
    "from numpy import diff\n",
    "import random\n",
    "import copy\n",
    "import math\n",
    "from numpy import exp\n",
    "import os"
   ]
  },
  {
   "cell_type": "code",
   "execution_count": 23,
   "metadata": {},
   "outputs": [],
   "source": [
    "def formatInput():\n",
    "    inputFile = open('Program2Input.txt', 'r')\n",
    "    inputArray = inputFile.read()\n",
    "    inputArray = inputArray.split()\n",
    "    nestedInputArray = []\n",
    "    nestedInputArray = [inputArray[i:i+2] for i in range(0, len(inputArray), 2)]\n",
    "    nestedInputArray = [[float(x) for x in lst] for lst in nestedInputArray]\n",
    "    for i in range(0, len(nestedInputArray)):\n",
    "        nestedInputArray[i].append(0)\n",
    "    return(nestedInputArray)"
   ]
  },
  {
   "cell_type": "code",
   "execution_count": 24,
   "metadata": {},
   "outputs": [],
   "source": [
    "def initialSolution(listOfItems):\n",
    "    numOfItems = 20\n",
    "    for i in range(0, numOfItems):\n",
    "        listOfItems[random.randint(0, len(listOfItems)-1)][2] = 1"
   ]
  },
  {
   "cell_type": "code",
   "execution_count": 25,
   "metadata": {},
   "outputs": [],
   "source": [
    "def proposedChange(listOfItems):\n",
    "    copyList = copy.deepcopy(listOfItems)\n",
    "    changedItemIndex = random.randint(0, len(listOfItems)-1)\n",
    "    if copyList[changedItemIndex][2] == 0:\n",
    "        copyList[changedItemIndex][2] = 1\n",
    "    elif copyList[changedItemIndex][2] == 1:\n",
    "        copyList[changedItemIndex][2] = 0\n",
    "    return(copyList)"
   ]
  },
  {
   "cell_type": "code",
   "execution_count": 26,
   "metadata": {},
   "outputs": [],
   "source": [
    "def checkChange(initialList, copyList, temp):\n",
    "    initialUtility = calcUtility(initialList)\n",
    "    copyUtility = calcUtility(copyList)\n",
    "    difference = (initialUtility - copyUtility)\n",
    "    probability = math.exp((-difference) / temp)\n",
    "    if (difference < 0) or (random.random() > probability):\n",
    "        initialList = copy.deepcopy(copyList)\n",
    "        return True\n",
    "    else: return False"
   ]
  },
  {
   "cell_type": "code",
   "execution_count": 27,
   "metadata": {},
   "outputs": [],
   "source": [
    "def calcUtility(listOfItems):\n",
    "    totalUtility = 0.0\n",
    "    rawUtility = 0.0\n",
    "    for i in range(0, len(listOfItems)):\n",
    "        if listOfItems[i][2] == 1:\n",
    "            rawUtility += listOfItems[i][0]\n",
    "    totalUtility = (1000 - rawUtility)\n",
    "    weight = calcWeight(listOfItems)\n",
    "    totalUtility = overWeightCheck(totalUtility, weight)\n",
    "    return(totalUtility)"
   ]
  },
  {
   "cell_type": "code",
   "execution_count": 28,
   "metadata": {},
   "outputs": [],
   "source": [
    "def calcWeight(listOfItems):\n",
    "    totalWeight = 0.0\n",
    "    for i in range(0, len(listOfItems)):\n",
    "        if listOfItems[i][2] == 1:\n",
    "            totalWeight += listOfItems[i][1]\n",
    "    return(totalWeight)"
   ]
  },
  {
   "cell_type": "code",
   "execution_count": 29,
   "metadata": {},
   "outputs": [],
   "source": [
    "def overWeightCheck(utility, weight):\n",
    "    maxWeight = 500\n",
    "    if weight > maxWeight:\n",
    "        penalty = ((weight - maxWeight) * 20)\n",
    "        utility += penalty\n",
    "    return utility"
   ]
  },
  {
   "cell_type": "code",
   "execution_count": 30,
   "metadata": {},
   "outputs": [],
   "source": [
    "def displayResults(listOfItems):\n",
    "    print('Final list of items packed in car:')\n",
    "    print('Utility \\t Weight')\n",
    "    for i in range(0, len(listOfItems)-1):\n",
    "        if listOfItems[i][2] == 1:\n",
    "            print('%d \\t\\t %d' % (listOfItems[i][0], listOfItems[i][1]))\n",
    "    print('Total Utility: %d' % calcUtility(listOfItems))\n",
    "    print('Total Weight: %d' % calcWeight(listOfItems))"
   ]
  },
  {
   "cell_type": "code",
   "execution_count": 31,
   "metadata": {},
   "outputs": [
    {
     "name": "stdout",
     "output_type": "stream",
     "text": [
      "Attempts: 4000\tChanges: 269\t Temperature: 400\t Iterations: 0\t Current Utility: 895\n",
      "Attempts: 4000\tChanges: 221\t Temperature: 360\t Iterations: 1\t Current Utility: 895\n",
      "Attempts: 4000\tChanges: 252\t Temperature: 324\t Iterations: 2\t Current Utility: 895\n"
     ]
    },
    {
     "ename": "KeyboardInterrupt",
     "evalue": "",
     "output_type": "error",
     "traceback": [
      "\u001b[0;31m---------------------------------------------------------------------------\u001b[0m",
      "\u001b[0;31mKeyboardInterrupt\u001b[0m                         Traceback (most recent call last)",
      "Input \u001b[0;32mIn [31]\u001b[0m, in \u001b[0;36m<cell line: 8>\u001b[0;34m()\u001b[0m\n\u001b[1;32m      8\u001b[0m \u001b[38;5;28;01mwhile\u001b[39;00m \u001b[38;5;28;01mTrue\u001b[39;00m:\n\u001b[1;32m      9\u001b[0m     copyList \u001b[38;5;241m=\u001b[39m []\n\u001b[0;32m---> 10\u001b[0m     copyList \u001b[38;5;241m=\u001b[39m \u001b[43mproposedChange\u001b[49m\u001b[43m(\u001b[49m\u001b[43mlistOfItems\u001b[49m\u001b[43m)\u001b[49m\n\u001b[1;32m     12\u001b[0m     changeBool \u001b[38;5;241m=\u001b[39m checkChange(listOfItems, copyList, temp)\n\u001b[1;32m     14\u001b[0m     \u001b[38;5;28;01mif\u001b[39;00m changeBool: changeCounter \u001b[38;5;241m+\u001b[39m\u001b[38;5;241m=\u001b[39m \u001b[38;5;241m1\u001b[39m\n",
      "Input \u001b[0;32mIn [25]\u001b[0m, in \u001b[0;36mproposedChange\u001b[0;34m(listOfItems)\u001b[0m\n\u001b[1;32m      1\u001b[0m \u001b[38;5;28;01mdef\u001b[39;00m \u001b[38;5;21mproposedChange\u001b[39m(listOfItems):\n\u001b[0;32m----> 2\u001b[0m     copyList \u001b[38;5;241m=\u001b[39m \u001b[43mcopy\u001b[49m\u001b[38;5;241;43m.\u001b[39;49m\u001b[43mdeepcopy\u001b[49m\u001b[43m(\u001b[49m\u001b[43mlistOfItems\u001b[49m\u001b[43m)\u001b[49m\n\u001b[1;32m      3\u001b[0m     changedItemIndex \u001b[38;5;241m=\u001b[39m random\u001b[38;5;241m.\u001b[39mrandint(\u001b[38;5;241m0\u001b[39m, \u001b[38;5;28mlen\u001b[39m(listOfItems)\u001b[38;5;241m-\u001b[39m\u001b[38;5;241m1\u001b[39m)\n\u001b[1;32m      4\u001b[0m     \u001b[38;5;28;01mif\u001b[39;00m copyList[changedItemIndex][\u001b[38;5;241m2\u001b[39m] \u001b[38;5;241m==\u001b[39m \u001b[38;5;241m0\u001b[39m:\n",
      "File \u001b[0;32m/Library/Frameworks/Python.framework/Versions/3.10/lib/python3.10/copy.py:146\u001b[0m, in \u001b[0;36mdeepcopy\u001b[0;34m(x, memo, _nil)\u001b[0m\n\u001b[1;32m    144\u001b[0m copier \u001b[38;5;241m=\u001b[39m _deepcopy_dispatch\u001b[38;5;241m.\u001b[39mget(\u001b[38;5;28mcls\u001b[39m)\n\u001b[1;32m    145\u001b[0m \u001b[38;5;28;01mif\u001b[39;00m copier \u001b[38;5;129;01mis\u001b[39;00m \u001b[38;5;129;01mnot\u001b[39;00m \u001b[38;5;28;01mNone\u001b[39;00m:\n\u001b[0;32m--> 146\u001b[0m     y \u001b[38;5;241m=\u001b[39m \u001b[43mcopier\u001b[49m\u001b[43m(\u001b[49m\u001b[43mx\u001b[49m\u001b[43m,\u001b[49m\u001b[43m \u001b[49m\u001b[43mmemo\u001b[49m\u001b[43m)\u001b[49m\n\u001b[1;32m    147\u001b[0m \u001b[38;5;28;01melse\u001b[39;00m:\n\u001b[1;32m    148\u001b[0m     \u001b[38;5;28;01mif\u001b[39;00m \u001b[38;5;28missubclass\u001b[39m(\u001b[38;5;28mcls\u001b[39m, \u001b[38;5;28mtype\u001b[39m):\n",
      "File \u001b[0;32m/Library/Frameworks/Python.framework/Versions/3.10/lib/python3.10/copy.py:206\u001b[0m, in \u001b[0;36m_deepcopy_list\u001b[0;34m(x, memo, deepcopy)\u001b[0m\n\u001b[1;32m    204\u001b[0m append \u001b[38;5;241m=\u001b[39m y\u001b[38;5;241m.\u001b[39mappend\n\u001b[1;32m    205\u001b[0m \u001b[38;5;28;01mfor\u001b[39;00m a \u001b[38;5;129;01min\u001b[39;00m x:\n\u001b[0;32m--> 206\u001b[0m     append(\u001b[43mdeepcopy\u001b[49m\u001b[43m(\u001b[49m\u001b[43ma\u001b[49m\u001b[43m,\u001b[49m\u001b[43m \u001b[49m\u001b[43mmemo\u001b[49m\u001b[43m)\u001b[49m)\n\u001b[1;32m    207\u001b[0m \u001b[38;5;28;01mreturn\u001b[39;00m y\n",
      "File \u001b[0;32m/Library/Frameworks/Python.framework/Versions/3.10/lib/python3.10/copy.py:142\u001b[0m, in \u001b[0;36mdeepcopy\u001b[0;34m(x, memo, _nil)\u001b[0m\n\u001b[1;32m    139\u001b[0m \u001b[38;5;28;01mif\u001b[39;00m y \u001b[38;5;129;01mis\u001b[39;00m \u001b[38;5;129;01mnot\u001b[39;00m _nil:\n\u001b[1;32m    140\u001b[0m     \u001b[38;5;28;01mreturn\u001b[39;00m y\n\u001b[0;32m--> 142\u001b[0m \u001b[38;5;28mcls\u001b[39m \u001b[38;5;241m=\u001b[39m \u001b[38;5;28;43mtype\u001b[39;49m\u001b[43m(\u001b[49m\u001b[43mx\u001b[49m\u001b[43m)\u001b[49m\n\u001b[1;32m    144\u001b[0m copier \u001b[38;5;241m=\u001b[39m _deepcopy_dispatch\u001b[38;5;241m.\u001b[39mget(\u001b[38;5;28mcls\u001b[39m)\n\u001b[1;32m    145\u001b[0m \u001b[38;5;28;01mif\u001b[39;00m copier \u001b[38;5;129;01mis\u001b[39;00m \u001b[38;5;129;01mnot\u001b[39;00m \u001b[38;5;28;01mNone\u001b[39;00m:\n",
      "\u001b[0;31mKeyboardInterrupt\u001b[0m: "
     ]
    }
   ],
   "source": [
    "temp = 400\n",
    "changeCounter = 0\n",
    "consecutiveAttemptCounter = 0\n",
    "iterationCounter = 0\n",
    "listOfItems = formatInput()\n",
    "initialSolution(listOfItems)\n",
    "\n",
    "while True:\n",
    "    copyList = []\n",
    "    copyList = proposedChange(listOfItems)\n",
    "\n",
    "    changeBool = checkChange(listOfItems, copyList, temp)\n",
    "\n",
    "    if changeBool: changeCounter += 1\n",
    "    consecutiveAttemptCounter += 1\n",
    "    if (consecutiveAttemptCounter == 40000) and (changeCounter == 0):\n",
    "        displayResults(listOfItems)\n",
    "        break\n",
    "    # if (consecutiveAttemptCounter == 40000) or (changeCounter == 4000):\n",
    "    if (consecutiveAttemptCounter == 4000) or (changeCounter == 400):\n",
    "        print('Attempts: %d\\tChanges: %d\\t Temperature: %d\\t Iterations: %d\\t Current Utility: %d' % (consecutiveAttemptCounter, changeCounter, temp, iterationCounter, calculations.calcUtility(listOfItems)))\n",
    "        temp *= 0.9\n",
    "        iterationCounter += 1\n",
    "        changeCounter = 0\n",
    "        consecutiveAttemptCounter = 0"
   ]
  }
 ],
 "metadata": {
  "interpreter": {
   "hash": "aee8b7b246df8f9039afb4144a1f6fd8d2ca17a180786b69acc140d282b71a49"
  },
  "kernelspec": {
   "display_name": "Python 3.10.1 64-bit",
   "language": "python",
   "name": "python3"
  },
  "language_info": {
   "codemirror_mode": {
    "name": "ipython",
    "version": 3
   },
   "file_extension": ".py",
   "mimetype": "text/x-python",
   "name": "python",
   "nbconvert_exporter": "python",
   "pygments_lexer": "ipython3",
   "version": "3.10.1"
  },
  "orig_nbformat": 4
 },
 "nbformat": 4,
 "nbformat_minor": 2
}
