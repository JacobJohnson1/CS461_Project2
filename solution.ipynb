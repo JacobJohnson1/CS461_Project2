{
 "cells": [
  {
   "cell_type": "code",
   "execution_count": 18,
   "metadata": {},
   "outputs": [],
   "source": [
    "from pickle import FALSE, TRUE\n",
    "from numpy import diff\n",
    "import random\n",
    "import copy\n",
    "import math\n",
    "from numpy import exp\n",
    "import os"
   ]
  },
  {
   "cell_type": "code",
   "execution_count": 19,
   "metadata": {},
   "outputs": [],
   "source": [
    "def formatInput():\n",
    "    inputFile = open('Program2Input.txt', 'r')\n",
    "    inputArray = inputFile.read()\n",
    "    inputArray = inputArray.split()\n",
    "    nestedInputArray = []\n",
    "    nestedInputArray = [inputArray[i:i+2] for i in range(0, len(inputArray), 2)]\n",
    "    nestedInputArray = [[float(x) for x in lst] for lst in nestedInputArray]\n",
    "    for i in range(0, len(nestedInputArray)):\n",
    "        nestedInputArray[i].append(0)\n",
    "    return(nestedInputArray)"
   ]
  },
  {
   "cell_type": "code",
   "execution_count": 20,
   "metadata": {},
   "outputs": [],
   "source": [
    "def initialSolution(listOfItems):\n",
    "    numOfItems = 20\n",
    "    for i in range(0, numOfItems):\n",
    "        listOfItems[random.randint(0, len(listOfItems)-1)][2] = 1"
   ]
  },
  {
   "cell_type": "code",
   "execution_count": 21,
   "metadata": {},
   "outputs": [],
   "source": [
    "def proposedChange(listOfItems):\n",
    "    copyList = copy.deepcopy(listOfItems)\n",
    "    changedItemIndex = random.randint(0, len(listOfItems)-1)\n",
    "    if copyList[changedItemIndex][2] == 0:\n",
    "        copyList[changedItemIndex][2] = 1\n",
    "    elif copyList[changedItemIndex][2] == 1:\n",
    "        copyList[changedItemIndex][2] = 0\n",
    "    return(copyList)"
   ]
  },
  {
   "cell_type": "code",
   "execution_count": 22,
   "metadata": {},
   "outputs": [],
   "source": [
    "def checkChange(initialList, copyList, temp):\n",
    "    initialUtility = calcUtility(initialList)\n",
    "    copyUtility = calcUtility(copyList)\n",
    "    difference = (initialUtility - copyUtility)\n",
    "    probability = math.exp((-difference) / temp)\n",
    "    if (difference < 0) or (random.random() > probability):\n",
    "        # initialList = copy.deepcopy(copyList)\n",
    "        return True\n",
    "    else: return False"
   ]
  },
  {
   "cell_type": "code",
   "execution_count": 23,
   "metadata": {},
   "outputs": [],
   "source": [
    "def calcUtility(listOfItems):\n",
    "    totalUtility = 0.0\n",
    "    rawUtility = 0.0\n",
    "    for i in range(0, len(listOfItems)):\n",
    "        if listOfItems[i][2] == 1:\n",
    "            rawUtility += listOfItems[i][0]\n",
    "    totalUtility = (1000 - rawUtility)\n",
    "    weight = calcWeight(listOfItems)\n",
    "    totalUtility = overWeightCheck(totalUtility, weight)\n",
    "    return(totalUtility)"
   ]
  },
  {
   "cell_type": "code",
   "execution_count": 24,
   "metadata": {},
   "outputs": [],
   "source": [
    "def calcWeight(listOfItems):\n",
    "    totalWeight = 0.0\n",
    "    for i in range(0, len(listOfItems)):\n",
    "        if listOfItems[i][2] == 1:\n",
    "            totalWeight += listOfItems[i][1]\n",
    "    return(totalWeight)"
   ]
  },
  {
   "cell_type": "code",
   "execution_count": 25,
   "metadata": {},
   "outputs": [],
   "source": [
    "def overWeightCheck(utility, weight):\n",
    "    maxWeight = 500\n",
    "    if weight > maxWeight:\n",
    "        penalty = ((weight - maxWeight) * 20)\n",
    "        utility += penalty\n",
    "    return utility"
   ]
  },
  {
   "cell_type": "code",
   "execution_count": 26,
   "metadata": {},
   "outputs": [],
   "source": [
    "def displayResults(listOfItems):\n",
    "    print('Final list of items packed in car:')\n",
    "    print('Utility \\t Weight')\n",
    "    for i in range(0, len(listOfItems)-1):\n",
    "        if listOfItems[i][2] == 1:\n",
    "            print('%d \\t\\t %d' % (listOfItems[i][0], listOfItems[i][1]))\n",
    "    print('Total Utility: %d' % calcUtility(listOfItems))\n",
    "    print('Total Weight: %d' % calcWeight(listOfItems))"
   ]
  },
  {
   "cell_type": "code",
   "execution_count": 27,
   "metadata": {},
   "outputs": [
    {
     "name": "stdout",
     "output_type": "stream",
     "text": [
      "Attempts: 4000\tChanges: 103\t Temperature: 400\t Iterations: 0\t Current Utility: 982\n",
      "Attempts: 4000\tChanges: 121\t Temperature: 360\t Iterations: 1\t Current Utility: 932\n",
      "Attempts: 4000\tChanges: 120\t Temperature: 324\t Iterations: 2\t Current Utility: 964\n",
      "Attempts: 4000\tChanges: 142\t Temperature: 291\t Iterations: 3\t Current Utility: 968\n",
      "Attempts: 4000\tChanges: 160\t Temperature: 262\t Iterations: 4\t Current Utility: 927\n",
      "Attempts: 4000\tChanges: 156\t Temperature: 236\t Iterations: 5\t Current Utility: 929\n",
      "Attempts: 4000\tChanges: 197\t Temperature: 212\t Iterations: 6\t Current Utility: 913\n",
      "Attempts: 4000\tChanges: 208\t Temperature: 191\t Iterations: 7\t Current Utility: 912\n",
      "Attempts: 4000\tChanges: 236\t Temperature: 172\t Iterations: 8\t Current Utility: 946\n",
      "Attempts: 4000\tChanges: 225\t Temperature: 154\t Iterations: 9\t Current Utility: 862\n",
      "Attempts: 4000\tChanges: 261\t Temperature: 139\t Iterations: 10\t Current Utility: 956\n",
      "Attempts: 4000\tChanges: 310\t Temperature: 125\t Iterations: 11\t Current Utility: 878\n",
      "Attempts: 4000\tChanges: 336\t Temperature: 112\t Iterations: 12\t Current Utility: 866\n",
      "Attempts: 4000\tChanges: 393\t Temperature: 101\t Iterations: 13\t Current Utility: 892\n",
      "Attempts: 3705\tChanges: 400\t Temperature: 91\t Iterations: 14\t Current Utility: 848\n",
      "Attempts: 4000\tChanges: 398\t Temperature: 82\t Iterations: 15\t Current Utility: 859\n",
      "Attempts: 3298\tChanges: 400\t Temperature: 74\t Iterations: 16\t Current Utility: 848\n",
      "Attempts: 3170\tChanges: 400\t Temperature: 66\t Iterations: 17\t Current Utility: 873\n",
      "Attempts: 2888\tChanges: 400\t Temperature: 60\t Iterations: 18\t Current Utility: 821\n",
      "Attempts: 1126\tChanges: 400\t Temperature: 54\t Iterations: 19\t Current Utility: 22943\n",
      "Attempts: 437\tChanges: 400\t Temperature: 48\t Iterations: 20\t Current Utility: 33891\n",
      "Attempts: 429\tChanges: 400\t Temperature: 43\t Iterations: 21\t Current Utility: 32135\n",
      "Attempts: 422\tChanges: 400\t Temperature: 39\t Iterations: 22\t Current Utility: 35131\n",
      "Attempts: 414\tChanges: 400\t Temperature: 35\t Iterations: 23\t Current Utility: 34458\n",
      "Attempts: 422\tChanges: 400\t Temperature: 31\t Iterations: 24\t Current Utility: 33020\n",
      "Attempts: 418\tChanges: 400\t Temperature: 28\t Iterations: 25\t Current Utility: 31595\n",
      "Attempts: 412\tChanges: 400\t Temperature: 25\t Iterations: 26\t Current Utility: 34685\n",
      "Attempts: 404\tChanges: 400\t Temperature: 23\t Iterations: 27\t Current Utility: 35543\n",
      "Attempts: 408\tChanges: 400\t Temperature: 20\t Iterations: 28\t Current Utility: 37298\n",
      "Attempts: 409\tChanges: 400\t Temperature: 18\t Iterations: 29\t Current Utility: 33367\n",
      "Attempts: 419\tChanges: 400\t Temperature: 16\t Iterations: 30\t Current Utility: 39765\n",
      "Attempts: 404\tChanges: 400\t Temperature: 15\t Iterations: 31\t Current Utility: 35367\n",
      "Attempts: 408\tChanges: 400\t Temperature: 13\t Iterations: 32\t Current Utility: 29730\n",
      "Attempts: 405\tChanges: 400\t Temperature: 12\t Iterations: 33\t Current Utility: 32465\n",
      "Attempts: 404\tChanges: 400\t Temperature: 11\t Iterations: 34\t Current Utility: 33250\n",
      "Attempts: 404\tChanges: 400\t Temperature: 10\t Iterations: 35\t Current Utility: 32229\n",
      "Attempts: 404\tChanges: 400\t Temperature: 9\t Iterations: 36\t Current Utility: 32318\n",
      "Attempts: 403\tChanges: 400\t Temperature: 8\t Iterations: 37\t Current Utility: 32233\n",
      "Attempts: 402\tChanges: 400\t Temperature: 7\t Iterations: 38\t Current Utility: 31475\n",
      "Attempts: 401\tChanges: 400\t Temperature: 6\t Iterations: 39\t Current Utility: 35451\n",
      "Attempts: 404\tChanges: 400\t Temperature: 5\t Iterations: 40\t Current Utility: 36115\n",
      "Attempts: 401\tChanges: 400\t Temperature: 5\t Iterations: 41\t Current Utility: 30923\n",
      "Attempts: 403\tChanges: 400\t Temperature: 4\t Iterations: 42\t Current Utility: 34550\n",
      "Attempts: 403\tChanges: 400\t Temperature: 4\t Iterations: 43\t Current Utility: 36245\n",
      "Attempts: 401\tChanges: 400\t Temperature: 3\t Iterations: 44\t Current Utility: 33167\n",
      "Attempts: 400\tChanges: 400\t Temperature: 3\t Iterations: 45\t Current Utility: 36773\n",
      "Attempts: 402\tChanges: 400\t Temperature: 3\t Iterations: 46\t Current Utility: 34589\n",
      "Attempts: 401\tChanges: 400\t Temperature: 2\t Iterations: 47\t Current Utility: 36771\n",
      "Attempts: 401\tChanges: 400\t Temperature: 2\t Iterations: 48\t Current Utility: 31677\n",
      "Attempts: 401\tChanges: 400\t Temperature: 2\t Iterations: 49\t Current Utility: 34820\n",
      "Attempts: 401\tChanges: 400\t Temperature: 2\t Iterations: 50\t Current Utility: 36010\n",
      "Attempts: 401\tChanges: 400\t Temperature: 1\t Iterations: 51\t Current Utility: 38148\n",
      "Attempts: 400\tChanges: 400\t Temperature: 1\t Iterations: 52\t Current Utility: 34098\n",
      "Attempts: 400\tChanges: 400\t Temperature: 1\t Iterations: 53\t Current Utility: 33347\n",
      "Attempts: 401\tChanges: 400\t Temperature: 1\t Iterations: 54\t Current Utility: 31894\n",
      "Attempts: 401\tChanges: 400\t Temperature: 1\t Iterations: 55\t Current Utility: 35028\n",
      "Attempts: 401\tChanges: 400\t Temperature: 1\t Iterations: 56\t Current Utility: 35532\n",
      "Attempts: 402\tChanges: 400\t Temperature: 0\t Iterations: 57\t Current Utility: 32745\n",
      "Attempts: 400\tChanges: 400\t Temperature: 0\t Iterations: 58\t Current Utility: 32899\n",
      "Attempts: 400\tChanges: 400\t Temperature: 0\t Iterations: 59\t Current Utility: 33930\n",
      "Attempts: 400\tChanges: 400\t Temperature: 0\t Iterations: 60\t Current Utility: 31363\n",
      "Attempts: 400\tChanges: 400\t Temperature: 0\t Iterations: 61\t Current Utility: 35432\n",
      "Attempts: 401\tChanges: 400\t Temperature: 0\t Iterations: 62\t Current Utility: 34011\n"
     ]
    },
    {
     "ename": "OverflowError",
     "evalue": "math range error",
     "output_type": "error",
     "traceback": [
      "\u001b[0;31m---------------------------------------------------------------------------\u001b[0m",
      "\u001b[0;31mOverflowError\u001b[0m                             Traceback (most recent call last)",
      "Input \u001b[0;32mIn [27]\u001b[0m, in \u001b[0;36m<cell line: 8>\u001b[0;34m()\u001b[0m\n\u001b[1;32m      9\u001b[0m copyList \u001b[38;5;241m=\u001b[39m []\n\u001b[1;32m     10\u001b[0m copyList \u001b[38;5;241m=\u001b[39m proposedChange(listOfItems)\n\u001b[0;32m---> 12\u001b[0m changeBool \u001b[38;5;241m=\u001b[39m \u001b[43mcheckChange\u001b[49m\u001b[43m(\u001b[49m\u001b[43mlistOfItems\u001b[49m\u001b[43m,\u001b[49m\u001b[43m \u001b[49m\u001b[43mcopyList\u001b[49m\u001b[43m,\u001b[49m\u001b[43m \u001b[49m\u001b[43mtemp\u001b[49m\u001b[43m)\u001b[49m\n\u001b[1;32m     14\u001b[0m \u001b[38;5;28;01mif\u001b[39;00m changeBool: \n\u001b[1;32m     15\u001b[0m     changeCounter \u001b[38;5;241m+\u001b[39m\u001b[38;5;241m=\u001b[39m \u001b[38;5;241m1\u001b[39m\n",
      "Input \u001b[0;32mIn [22]\u001b[0m, in \u001b[0;36mcheckChange\u001b[0;34m(initialList, copyList, temp)\u001b[0m\n\u001b[1;32m      3\u001b[0m copyUtility \u001b[38;5;241m=\u001b[39m calcUtility(copyList)\n\u001b[1;32m      4\u001b[0m difference \u001b[38;5;241m=\u001b[39m (initialUtility \u001b[38;5;241m-\u001b[39m copyUtility)\n\u001b[0;32m----> 5\u001b[0m probability \u001b[38;5;241m=\u001b[39m \u001b[43mmath\u001b[49m\u001b[38;5;241;43m.\u001b[39;49m\u001b[43mexp\u001b[49m\u001b[43m(\u001b[49m\u001b[43m(\u001b[49m\u001b[38;5;241;43m-\u001b[39;49m\u001b[43mdifference\u001b[49m\u001b[43m)\u001b[49m\u001b[43m \u001b[49m\u001b[38;5;241;43m/\u001b[39;49m\u001b[43m \u001b[49m\u001b[43mtemp\u001b[49m\u001b[43m)\u001b[49m\n\u001b[1;32m      6\u001b[0m \u001b[38;5;28;01mif\u001b[39;00m (difference \u001b[38;5;241m<\u001b[39m \u001b[38;5;241m0\u001b[39m) \u001b[38;5;129;01mor\u001b[39;00m (random\u001b[38;5;241m.\u001b[39mrandom() \u001b[38;5;241m>\u001b[39m probability):\n\u001b[1;32m      7\u001b[0m     \u001b[38;5;66;03m# initialList = copy.deepcopy(copyList)\u001b[39;00m\n\u001b[1;32m      8\u001b[0m     \u001b[38;5;28;01mreturn\u001b[39;00m \u001b[38;5;28;01mTrue\u001b[39;00m\n",
      "\u001b[0;31mOverflowError\u001b[0m: math range error"
     ]
    }
   ],
   "source": [
    "temp = 400\n",
    "changeCounter = 0\n",
    "consecutiveAttemptCounter = 0\n",
    "iterationCounter = 0\n",
    "listOfItems = formatInput()\n",
    "initialSolution(listOfItems)\n",
    "\n",
    "while True:\n",
    "    copyList = []\n",
    "    copyList = proposedChange(listOfItems)\n",
    "\n",
    "    changeBool = checkChange(listOfItems, copyList, temp)\n",
    "\n",
    "    if changeBool: \n",
    "        changeCounter += 1\n",
    "        listOfItems = copy.deepcopy(copyList)\n",
    "        copyList = []\n",
    "\n",
    "    consecutiveAttemptCounter += 1\n",
    "    if ((consecutiveAttemptCounter == 40000) and (changeCounter == 0)) or temp == 0:\n",
    "        displayResults(listOfItems)\n",
    "        break\n",
    "    if (consecutiveAttemptCounter == 4000) or (changeCounter == 400):\n",
    "        print('Attempts: %d\\tChanges: %d\\t Temperature: %d\\t Iterations: %d\\t Current Utility: %d' % (consecutiveAttemptCounter, changeCounter, temp, iterationCounter, calcUtility(listOfItems)))\n",
    "        temp *= 0.9\n",
    "        iterationCounter += 1\n",
    "        changeCounter = 0\n",
    "        consecutiveAttemptCounter = 0"
   ]
  }
 ],
 "metadata": {
  "interpreter": {
   "hash": "aee8b7b246df8f9039afb4144a1f6fd8d2ca17a180786b69acc140d282b71a49"
  },
  "kernelspec": {
   "display_name": "Python 3.10.1 64-bit",
   "language": "python",
   "name": "python3"
  },
  "language_info": {
   "codemirror_mode": {
    "name": "ipython",
    "version": 3
   },
   "file_extension": ".py",
   "mimetype": "text/x-python",
   "name": "python",
   "nbconvert_exporter": "python",
   "pygments_lexer": "ipython3",
   "version": "3.10.1"
  },
  "orig_nbformat": 4
 },
 "nbformat": 4,
 "nbformat_minor": 2
}
